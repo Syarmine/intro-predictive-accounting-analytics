{
 "cells": [
  {
   "cell_type": "code",
   "execution_count": null,
   "metadata": {},
   "outputs": [],
   "source": [
    "# First cell\n",
    "import pandas as pd\n",
    "import numpy as np\n",
    "from sklearn.model_selection import train_test_split\n",
    "from sklearn.linear_model import LinearRegression\n",
    "from sklearn.metrics import mean_squared_error, r2_score\n",
    "from statsmodels.tsa.arima.model import ARIMA\n",
    "import plotly.graph_objects as go\n",
    "from plotly.subplots import make_subplots\n",
    "\n",
    "# Second cell\n",
    "# Load the data\n",
    "revenue_data = pd.read_csv('../data/raw/revenue_data.csv', parse_dates=['Date'])\n",
    "revenue_data.set_index('Date', inplace=True)\n",
    "revenue_data.head()\n",
    "\n",
    "# Third cell\n",
    "# Linear Regression\n",
    "X = (revenue_data.index - revenue_data.index[0]).days.values.reshape(-1, 1)\n",
    "y = revenue_data['Revenue'].values\n",
    "\n",
    "X_train, X_test, y_train, y_test = train_test_split(X, y, test_size=0.2, random_state=42)\n",
    "\n",
    "model = LinearRegression()\n",
    "model.fit(X_train, y_train)\n",
    "\n",
    "y_pred = model.predict(X_test)\n",
    "\n",
    "mse = mean_squared_error(y_test, y_pred)\n",
    "r2 = r2_score(y_test, y_pred)\n",
    "\n",
    "print(f\"Linear Regression - MSE: {mse:.2f}, R2: {r2:.2f}\")\n",
    "\n",
    "# Fourth cell\n",
    "# Visualize Linear Regression results\n",
    "fig = go.Figure()\n",
    "fig.add_trace(go.Scatter(x=revenue_data.index[X_test.flatten()], y=y_test, mode='markers', name='Actual'))\n",
    "fig.add_trace(go.Scatter(x=revenue_data.index[X_test.flatten()], y=y_pred, mode='lines', name='Predicted'))\n",
    "fig.update_layout(title='Revenue Prediction - Linear Regression', xaxis_title='Date', yaxis_title='Revenue')\n",
    "fig.show()\n",
    "\n",
    "# Fifth cell\n",
    "# ARIMA\n",
    "model = ARIMA(revenue_data['Revenue'], order=(1, 1, 1))\n",
    "results = model.fit()\n",
    "\n",
    "forecast = results.forecast(steps=30)\n",
    "print(\"ARIMA model fitted and forecast generated.\")\n",
    "\n",
    "# Sixth cell\n",
    "# Visualize ARIMA results\n",
    "fig = go.Figure()\n",
    "fig.add_trace(go.Scatter(x=revenue_data.index, y=revenue_data['Revenue'], mode='lines', name='Historical'))\n",
    "fig.add_trace(go.Scatter(x=forecast.index, y=forecast, mode='lines', name='Forecast'))\n",
    "fig.update_layout(title='Revenue Prediction - ARIMA', xaxis_title='Date', yaxis_title='Revenue')\n",
    "fig.show()"
   ]
  }
 ],
 "metadata": {
  "kernelspec": {
   "display_name": "Python 3 (ipykernel)",
   "language": "python",
   "name": "python3"
  },
  "language_info": {
   "codemirror_mode": {
    "name": "ipython",
    "version": 3
   },
   "file_extension": ".py",
   "mimetype": "text/x-python",
   "name": "python",
   "nbconvert_exporter": "python",
   "pygments_lexer": "ipython3",
   "version": "3.12.5"
  }
 },
 "nbformat": 4,
 "nbformat_minor": 4
}
